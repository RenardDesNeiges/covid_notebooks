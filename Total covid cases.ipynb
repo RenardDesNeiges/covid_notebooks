{
 "cells": [
  {
   "cell_type": "code",
   "execution_count": 41,
   "metadata": {},
   "outputs": [],
   "source": [
    "import numpy as np\n",
    "import pandas as pd\n",
    "import matplotlib.pyplot as plt"
   ]
  },
  {
   "cell_type": "code",
   "execution_count": null,
   "metadata": {},
   "outputs": [],
   "source": [
    "# pull the latest data from the Zurich Hospital Github\n",
    "! rm 'covid19_cases_switzerland_openzh.csv'\n",
    "! wget 'https://raw.githubusercontent.com/daenuprobst/covid19-cases-switzerland/master/covid19_cases_switzerland_openzh.csv'"
   ]
  },
  {
   "cell_type": "code",
   "execution_count": null,
   "metadata": {},
   "outputs": [],
   "source": [
    "# get the data from the github to pandas\n",
    "covid_19_cases = pd.read_csv(\"covid19_cases_switzerland_openzh.csv\")"
   ]
  },
  {
   "cell_type": "code",
   "execution_count": null,
   "metadata": {},
   "outputs": [],
   "source": [
    "# A quick look at the structure of the data (first row)\n",
    "print(covid_19_cases.head(3))"
   ]
  },
  {
   "cell_type": "code",
   "execution_count": null,
   "metadata": {},
   "outputs": [],
   "source": [
    "# Plotting the total cumulative cases\n",
    "df = pd.DataFrame(covid_19_cases,columns=[\"Date\",\"CH\"])\n",
    "plt.figure()\n",
    "ax = df.set_index('Date').plot(kind=\"line\",figsize=(12,8),title=\"Cumulative total covid19 cases in switzerland\")\n",
    "fig = ax.get_figure()\n",
    "fig.savefig('cumulative.jpg')"
   ]
  },
  {
   "cell_type": "code",
   "execution_count": null,
   "metadata": {},
   "outputs": [],
   "source": [
    "# Plotting the total cumulative cases\n",
    "x = pd.DataFrame(covid_19_cases,columns=[\"Date\"])\n",
    "y = pd.DataFrame(covid_19_cases,columns=[\"CH\"]).diff().rolling(15).sum()\n",
    "newcases = pd.concat([x,y])\n",
    "ax = newcases.set_index('Date').plot(kind=\"line\",figsize=(12,8),title=\"Rolling average of daily new covid19 cases in switzerland (y-axis is log-scale)\",logy=True)\n",
    "fig = ax.get_figure()\n",
    "fig.savefig('diff.jpg')"
   ]
  }
 ],
 "metadata": {
  "kernelspec": {
   "display_name": "Python 3",
   "language": "python",
   "name": "python3"
  },
  "language_info": {
   "codemirror_mode": {
    "name": "ipython",
    "version": 3
   },
   "file_extension": ".py",
   "mimetype": "text/x-python",
   "name": "python",
   "nbconvert_exporter": "python",
   "pygments_lexer": "ipython3",
   "version": "3.8.5"
  }
 },
 "nbformat": 4,
 "nbformat_minor": 4
}
